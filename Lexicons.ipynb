{
  "nbformat": 4,
  "nbformat_minor": 0,
  "metadata": {
    "colab": {
      "provenance": []
    },
    "kernelspec": {
      "name": "python3",
      "display_name": "Python 3"
    },
    "language_info": {
      "name": "python"
    }
  },
  "cells": [
    {
      "cell_type": "code",
      "execution_count": 1,
      "metadata": {
        "colab": {
          "base_uri": "https://localhost:8080/"
        },
        "id": "qA-PCusso95z",
        "outputId": "6921f94b-de47-4656-fc7a-9c9d0217b36e"
      },
      "outputs": [
        {
          "output_type": "stream",
          "name": "stderr",
          "text": [
            "[nltk_data] Downloading package wordnet to /root/nltk_data...\n"
          ]
        },
        {
          "output_type": "execute_result",
          "data": {
            "text/plain": [
              "True"
            ]
          },
          "metadata": {},
          "execution_count": 1
        }
      ],
      "source": [
        "import nltk\n",
        "nltk.download('wordnet')"
      ]
    },
    {
      "cell_type": "code",
      "source": [
        "from nltk.corpus import wordnet\n",
        "syns = wordnet.synsets(\"program\")\n",
        "syns"
      ],
      "metadata": {
        "colab": {
          "base_uri": "https://localhost:8080/"
        },
        "id": "cHFMoVP5pGPA",
        "outputId": "42b54e75-d1a7-42b3-fa0b-a3d78c1efaae"
      },
      "execution_count": 2,
      "outputs": [
        {
          "output_type": "execute_result",
          "data": {
            "text/plain": [
              "[Synset('plan.n.01'),\n",
              " Synset('program.n.02'),\n",
              " Synset('broadcast.n.02'),\n",
              " Synset('platform.n.02'),\n",
              " Synset('program.n.05'),\n",
              " Synset('course_of_study.n.01'),\n",
              " Synset('program.n.07'),\n",
              " Synset('program.n.08'),\n",
              " Synset('program.v.01'),\n",
              " Synset('program.v.02')]"
            ]
          },
          "metadata": {},
          "execution_count": 2
        }
      ]
    },
    {
      "cell_type": "code",
      "source": [
        "syns[0]"
      ],
      "metadata": {
        "colab": {
          "base_uri": "https://localhost:8080/"
        },
        "id": "x5Y3lIbMpJst",
        "outputId": "9ffd0561-f22d-44eb-93b6-931fc80fea74"
      },
      "execution_count": 3,
      "outputs": [
        {
          "output_type": "execute_result",
          "data": {
            "text/plain": [
              "Synset('plan.n.01')"
            ]
          },
          "metadata": {},
          "execution_count": 3
        }
      ]
    },
    {
      "cell_type": "code",
      "source": [
        "syns[0].name()"
      ],
      "metadata": {
        "colab": {
          "base_uri": "https://localhost:8080/",
          "height": 36
        },
        "id": "NyxDx1CspMBf",
        "outputId": "62482061-86ed-4659-abba-ca1355aca61b"
      },
      "execution_count": 4,
      "outputs": [
        {
          "output_type": "execute_result",
          "data": {
            "text/plain": [
              "'plan.n.01'"
            ],
            "application/vnd.google.colaboratory.intrinsic+json": {
              "type": "string"
            }
          },
          "metadata": {},
          "execution_count": 4
        }
      ]
    },
    {
      "cell_type": "code",
      "source": [
        "syns[0].lemmas()"
      ],
      "metadata": {
        "colab": {
          "base_uri": "https://localhost:8080/"
        },
        "id": "wCAenb00pNgM",
        "outputId": "e8882aaf-ccc5-452b-d75b-08c94f90de4a"
      },
      "execution_count": 5,
      "outputs": [
        {
          "output_type": "execute_result",
          "data": {
            "text/plain": [
              "[Lemma('plan.n.01.plan'),\n",
              " Lemma('plan.n.01.program'),\n",
              " Lemma('plan.n.01.programme')]"
            ]
          },
          "metadata": {},
          "execution_count": 5
        }
      ]
    },
    {
      "cell_type": "code",
      "source": [
        "syns[0].lemmas()[0].name()"
      ],
      "metadata": {
        "colab": {
          "base_uri": "https://localhost:8080/",
          "height": 36
        },
        "id": "VrddszsXpPMV",
        "outputId": "dfa79e8e-cfb7-4adb-dd9a-f3719bca3c4e"
      },
      "execution_count": 6,
      "outputs": [
        {
          "output_type": "execute_result",
          "data": {
            "text/plain": [
              "'plan'"
            ],
            "application/vnd.google.colaboratory.intrinsic+json": {
              "type": "string"
            }
          },
          "metadata": {},
          "execution_count": 6
        }
      ]
    },
    {
      "cell_type": "code",
      "source": [
        "syns[0].definition()"
      ],
      "metadata": {
        "colab": {
          "base_uri": "https://localhost:8080/",
          "height": 36
        },
        "id": "EvC1nrArpRCy",
        "outputId": "471c5bf4-18bd-4cf2-98c1-a44f81c36751"
      },
      "execution_count": 7,
      "outputs": [
        {
          "output_type": "execute_result",
          "data": {
            "text/plain": [
              "'a series of steps to be carried out or goals to be accomplished'"
            ],
            "application/vnd.google.colaboratory.intrinsic+json": {
              "type": "string"
            }
          },
          "metadata": {},
          "execution_count": 7
        }
      ]
    },
    {
      "cell_type": "code",
      "source": [
        "synonyms = []\n",
        "antonyms = []\n",
        "\n",
        "for syn in wordnet.synsets(\"good\"):\n",
        "    for l in syn.lemmas():\n",
        "        synonyms.append(l.name())\n",
        "        if l.antonyms():\n",
        "            antonyms.append(l.antonyms()[0].name())\n",
        "\n",
        "print(set(synonyms))\n",
        "print('------------------------------------')\n",
        "print(set(antonyms))"
      ],
      "metadata": {
        "colab": {
          "base_uri": "https://localhost:8080/"
        },
        "id": "wRrhfl2IpSkh",
        "outputId": "561a2ff5-0e3e-4ad1-9990-fb8418325b6b"
      },
      "execution_count": 8,
      "outputs": [
        {
          "output_type": "stream",
          "name": "stdout",
          "text": [
            "{'well', 'serious', 'dependable', 'sound', 'in_force', 'proficient', 'near', 'goodness', 'soundly', 'commodity', 'honest', 'upright', 'beneficial', 'estimable', 'expert', 'skillful', 'ripe', 'dear', 'right', 'full', 'secure', 'trade_good', 'effective', 'unspoiled', 'thoroughly', 'good', 'honorable', 'adept', 'skilful', 'in_effect', 'undecomposed', 'salutary', 'respectable', 'just', 'safe', 'practiced', 'unspoilt'}\n",
            "------------------------------------\n",
            "{'ill', 'evil', 'bad', 'badness', 'evilness'}\n"
          ]
        }
      ]
    }
  ]
}