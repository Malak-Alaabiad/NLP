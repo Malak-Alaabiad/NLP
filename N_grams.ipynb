{
  "nbformat": 4,
  "nbformat_minor": 0,
  "metadata": {
    "colab": {
      "provenance": []
    },
    "kernelspec": {
      "name": "python3",
      "display_name": "Python 3"
    },
    "language_info": {
      "name": "python"
    }
  },
  "cells": [
    {
      "cell_type": "code",
      "execution_count": 1,
      "metadata": {
        "id": "3_g7I5DLpwRy"
      },
      "outputs": [],
      "source": [
        "import nltk\n",
        "from nltk.util import ngrams"
      ]
    },
    {
      "cell_type": "code",
      "source": [
        "import nltk\n",
        "\n",
        "nltk.download('punkt_tab')\n",
        "\n",
        "x = \"moses supposes his toeses are roses but moses supposes erroneously\"\n",
        "tokens = nltk.word_tokenize(x)\n",
        "\n",
        "print(tokens)"
      ],
      "metadata": {
        "colab": {
          "base_uri": "https://localhost:8080/"
        },
        "id": "JUBcrD6RqqhQ",
        "outputId": "4e654df3-03bd-4f32-ef47-ea98bd0953c2"
      },
      "execution_count": 3,
      "outputs": [
        {
          "output_type": "stream",
          "name": "stdout",
          "text": [
            "['moses', 'supposes', 'his', 'toeses', 'are', 'roses', 'but', 'moses', 'supposes', 'erroneously']\n"
          ]
        },
        {
          "output_type": "stream",
          "name": "stderr",
          "text": [
            "[nltk_data] Downloading package punkt_tab to /root/nltk_data...\n",
            "[nltk_data]   Unzipping tokenizers/punkt_tab.zip.\n"
          ]
        }
      ]
    },
    {
      "cell_type": "code",
      "source": [
        "biGrams1 = nltk.bigrams(tokens)\n",
        "biGrams2 = ngrams(tokens, 2)\n",
        "\n",
        "for i in biGrams1:\n",
        "    print(i)\n",
        "print('========================')\n",
        "for i in biGrams2:\n",
        "    print(i)"
      ],
      "metadata": {
        "colab": {
          "base_uri": "https://localhost:8080/"
        },
        "id": "4-wJNTFlp1FL",
        "outputId": "9459258d-7357-47a3-e900-1127e60e2497"
      },
      "execution_count": 5,
      "outputs": [
        {
          "output_type": "stream",
          "name": "stdout",
          "text": [
            "('moses', 'supposes')\n",
            "('supposes', 'his')\n",
            "('his', 'toeses')\n",
            "('toeses', 'are')\n",
            "('are', 'roses')\n",
            "('roses', 'but')\n",
            "('but', 'moses')\n",
            "('moses', 'supposes')\n",
            "('supposes', 'erroneously')\n",
            "========================\n",
            "('moses', 'supposes')\n",
            "('supposes', 'his')\n",
            "('his', 'toeses')\n",
            "('toeses', 'are')\n",
            "('are', 'roses')\n",
            "('roses', 'but')\n",
            "('but', 'moses')\n",
            "('moses', 'supposes')\n",
            "('supposes', 'erroneously')\n"
          ]
        }
      ]
    },
    {
      "cell_type": "code",
      "source": [
        "biGrams1 = nltk.trigrams(tokens)\n",
        "biGrams2 = ngrams(tokens, 3)\n",
        "\n",
        "for i in biGrams1:\n",
        "    print(i)\n",
        "print('========================')\n",
        "for i in biGrams2:\n",
        "    print(i)"
      ],
      "metadata": {
        "colab": {
          "base_uri": "https://localhost:8080/"
        },
        "id": "lKSKOktSp3UE",
        "outputId": "27d93d14-9fb5-4c75-c045-8954a2661dc7"
      },
      "execution_count": 6,
      "outputs": [
        {
          "output_type": "stream",
          "name": "stdout",
          "text": [
            "('moses', 'supposes', 'his')\n",
            "('supposes', 'his', 'toeses')\n",
            "('his', 'toeses', 'are')\n",
            "('toeses', 'are', 'roses')\n",
            "('are', 'roses', 'but')\n",
            "('roses', 'but', 'moses')\n",
            "('but', 'moses', 'supposes')\n",
            "('moses', 'supposes', 'erroneously')\n",
            "========================\n",
            "('moses', 'supposes', 'his')\n",
            "('supposes', 'his', 'toeses')\n",
            "('his', 'toeses', 'are')\n",
            "('toeses', 'are', 'roses')\n",
            "('are', 'roses', 'but')\n",
            "('roses', 'but', 'moses')\n",
            "('but', 'moses', 'supposes')\n",
            "('moses', 'supposes', 'erroneously')\n"
          ]
        }
      ]
    },
    {
      "cell_type": "code",
      "source": [
        "biGrams = ngrams(tokens, 4)\n",
        "\n",
        "for i in biGrams:\n",
        "    print(i)"
      ],
      "metadata": {
        "colab": {
          "base_uri": "https://localhost:8080/"
        },
        "id": "EASNjjIFp5pq",
        "outputId": "b2c7f8b4-f777-4472-d7d0-7260e8423455"
      },
      "execution_count": 7,
      "outputs": [
        {
          "output_type": "stream",
          "name": "stdout",
          "text": [
            "('moses', 'supposes', 'his', 'toeses')\n",
            "('supposes', 'his', 'toeses', 'are')\n",
            "('his', 'toeses', 'are', 'roses')\n",
            "('toeses', 'are', 'roses', 'but')\n",
            "('are', 'roses', 'but', 'moses')\n",
            "('roses', 'but', 'moses', 'supposes')\n",
            "('but', 'moses', 'supposes', 'erroneously')\n"
          ]
        }
      ]
    },
    {
      "cell_type": "code",
      "source": [
        "biGrams = ngrams(tokens, 12) # number of grams greater than number of tokens\n",
        "for i in biGrams:\n",
        "    print(i)"
      ],
      "metadata": {
        "id": "ZtbxoTZ2p7VO"
      },
      "execution_count": 8,
      "outputs": []
    }
  ]
}